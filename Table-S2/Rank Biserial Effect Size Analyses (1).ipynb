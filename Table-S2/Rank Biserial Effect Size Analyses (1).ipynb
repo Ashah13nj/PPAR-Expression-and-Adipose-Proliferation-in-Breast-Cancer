{
 "cells": [
  {
   "cell_type": "code",
   "execution_count": 26,
   "id": "fb5ca020",
   "metadata": {},
   "outputs": [
    {
     "name": "stdout",
     "output_type": "stream",
     "text": [
      "Visceral r = 0.22\n",
      "Combined r = 0.024\n"
     ]
    }
   ],
   "source": [
    "#Menopause Status\n",
    "\n",
    "def rank_biserial(U, n1, n2):\n",
    "    return 1 - (2 * U) / (n1 * n2)\n",
    "\n",
    "n1, n2 = 32, 37\n",
    "U_visceral = 461.5\n",
    "U_combined = 578.0\n",
    "\n",
    "r_visceral = rank_biserial(U_visceral, n1, n2)\n",
    "r_combined = rank_biserial(U_combined, n1, n2)\n",
    "\n",
    "print(\"Visceral r =\", round(r_visceral, 3))\n",
    "print(\"Combined r =\", round(r_combined, 3))\n"
   ]
  },
  {
   "cell_type": "code",
   "execution_count": 27,
   "id": "b1ed7585",
   "metadata": {},
   "outputs": [
    {
     "name": "stdout",
     "output_type": "stream",
     "text": [
      "Peak r = 0.428\n",
      "max r = 0.407\n"
     ]
    }
   ],
   "source": [
    "#Menopause Status\n",
    "\n",
    "def rank_biserial(U, n1, n2):\n",
    "    return 1 - (2 * U) / (n1 * n2)\n",
    "\n",
    "n1, n2 = 32, 37\n",
    "U_Peak = 540\n",
    "U_Max = 526.5\n",
    "\n",
    "r_visceral = rank_biserial(U_Peak, n1, n2)\n",
    "r_combined = rank_biserial(U_Max, n1, n2)\n",
    "\n",
    "print(\"Peak r =\", round(r_Peak, 3))\n",
    "print(\"max r =\", round(r_Max, 3))"
   ]
  },
  {
   "cell_type": "code",
   "execution_count": 28,
   "id": "d3f85db8",
   "metadata": {},
   "outputs": [
    {
     "name": "stdout",
     "output_type": "stream",
     "text": [
      "Visceral r = 0.098\n",
      "Combined r = 0.023\n"
     ]
    }
   ],
   "source": [
    "#HER2 tumor status\n",
    "\n",
    "def rank_biserial(U, n1, n2):\n",
    "    return 1 - (2 * U) / (n1 * n2)\n",
    "\n",
    "# Example with your data:\n",
    "n1, n2 = 27, 41\n",
    "U_visceral = 499.5\n",
    "U_combined = 541\n",
    "\n",
    "r_visceral = rank_biserial(U_visceral, n1, n2)\n",
    "r_combined = rank_biserial(U_combined, n1, n2)\n",
    "\n",
    "print(\"Visceral r =\", round(r_visceral, 3))\n",
    "print(\"Combined r =\", round(r_combined, 3))\n"
   ]
  },
  {
   "cell_type": "code",
   "execution_count": 29,
   "id": "6a1c1c42",
   "metadata": {},
   "outputs": [
    {
     "name": "stdout",
     "output_type": "stream",
     "text": [
      "Peak r = 0.034\n",
      "Max r = 0.07\n"
     ]
    }
   ],
   "source": [
    "#HER2 tumor status\n",
    "\n",
    "def rank_biserial(U, n1, n2):\n",
    "    return 1 - (2 * U) / (n1 * n2)\n",
    "\n",
    "n1, n2 = 27, 41\n",
    "U_Peak = 534.5\n",
    "U_Max = 514.5\n",
    "\n",
    "r_Peak = rank_biserial(U_Peak, n1, n2)\n",
    "r_Max = rank_biserial(U_Max, n1, n2)\n",
    "\n",
    "print(\"Peak r =\", round(r_Peak, 3))\n",
    "print(\"Max r =\", round(r_Max, 3))"
   ]
  },
  {
   "cell_type": "code",
   "execution_count": 30,
   "id": "08c2f0aa",
   "metadata": {},
   "outputs": [
    {
     "name": "stdout",
     "output_type": "stream",
     "text": [
      "Visceral r = 0.113\n",
      "Combined r = 0.134\n"
     ]
    }
   ],
   "source": [
    "#ER tumor status\n",
    "\n",
    "def rank_biserial(U, n1, n2):\n",
    "    return 1 - (2 * U) / (n1 * n2)\n",
    "\n",
    "n1, n2 = 38, 30\n",
    "U_visceral = 505.5\n",
    "U_combined = 493.5\n",
    "\n",
    "r_visceral = rank_biserial(U_visceral, n1, n2)\n",
    "r_combined = rank_biserial(U_combined, n1, n2)\n",
    "\n",
    "print(\"Visceral r =\", round(r_visceral, 3))\n",
    "print(\"Combined r =\", round(r_combined, 3))"
   ]
  },
  {
   "cell_type": "code",
   "execution_count": 31,
   "id": "1cff22f3",
   "metadata": {},
   "outputs": [
    {
     "name": "stdout",
     "output_type": "stream",
     "text": [
      "Peak r = 0.428\n",
      "Max r = 0.407\n"
     ]
    }
   ],
   "source": [
    "#ER tumor status\n",
    "\n",
    "def rank_biserial(U, n1, n2):\n",
    "    return 1 - (2 * U) / (n1 * n2)\n",
    "\n",
    "n1, n2 = 38, 30\n",
    "U_Peak = 326\n",
    "U_Max = 338\n",
    "\n",
    "r_Peak = rank_biserial(U_Peak, n1, n2)\n",
    "r_Max = rank_biserial(U_Max, n1, n2)\n",
    "\n",
    "print(\"Peak r =\", round(r_Peak, 3))\n",
    "print(\"Max r =\", round(r_Max, 3))"
   ]
  },
  {
   "cell_type": "code",
   "execution_count": 32,
   "id": "e249a03f",
   "metadata": {},
   "outputs": [
    {
     "name": "stdout",
     "output_type": "stream",
     "text": [
      "Visceral r = 0.015\n",
      "Combined r = 0.021\n"
     ]
    }
   ],
   "source": [
    "#TNBC\n",
    "\n",
    "def rank_biserial(U, n1, n2):\n",
    "    return 1 - (2 * U) / (n1 * n2)\n",
    "\n",
    "n1, n2 = 17, 51\n",
    "U_visceral = 427\n",
    "U_combined = 424.5\n",
    "\n",
    "r_visceral = rank_biserial(U_visceral, n1, n2)\n",
    "r_combined = rank_biserial(U_combined, n1, n2)\n",
    "\n",
    "print(\"Visceral r =\", round(r_visceral, 3))\n",
    "print(\"Combined r =\", round(r_combined, 3))"
   ]
  },
  {
   "cell_type": "code",
   "execution_count": 33,
   "id": "2083a951",
   "metadata": {},
   "outputs": [
    {
     "name": "stdout",
     "output_type": "stream",
     "text": [
      "Peak r = 0.349\n",
      "Max r = 0.368\n"
     ]
    }
   ],
   "source": [
    "#TNBC\n",
    "\n",
    "def rank_biserial(U, n1, n2):\n",
    "    return 1 - (2 * U) / (n1 * n2)\n",
    "\n",
    "n1, n2 = 17, 51\n",
    "U_Peak = 282\n",
    "U_Max = 274\n",
    "\n",
    "r_Peak= rank_biserial(U_Peak, n1, n2)\n",
    "r_Max = rank_biserial(U_Max, n1, n2)\n",
    "\n",
    "print(\"Peak r =\", round(r_Peak, 3))\n",
    "print(\"Max r =\", round(r_Max, 3))"
   ]
  }
 ],
 "metadata": {
  "kernelspec": {
   "display_name": "Python 3 (ipykernel)",
   "language": "python",
   "name": "python3"
  },
  "language_info": {
   "codemirror_mode": {
    "name": "ipython",
    "version": 3
   },
   "file_extension": ".py",
   "mimetype": "text/x-python",
   "name": "python",
   "nbconvert_exporter": "python",
   "pygments_lexer": "ipython3",
   "version": "3.10.7"
  }
 },
 "nbformat": 4,
 "nbformat_minor": 5
}
